{
 "cells": [
  {
   "cell_type": "code",
   "execution_count": 292,
   "metadata": {},
   "outputs": [],
   "source": [
    "import json\n",
    "import argparse\n",
    "from collections import defaultdict\n",
    "import glob\n",
    "from os import path\n",
    "\n",
    "# parser = argparse.ArgumentParser(\n",
    "#     description='Adds metadata to a json file')\n",
    "# parser.add_argument('file')\n",
    "# args = parser.parse_args()\n",
    "\n",
    "# file = args.file\n",
    "files = glob.glob('data/*.json')\n",
    "confs = defaultdict(dict)\n",
    "for file in files:\n",
    "    data = json.load(open(file, 'r'))\n",
    "    conf_name = path.basename(file).split('.')[0]\n",
    "    conf_name, year = conf_name.split('_')\n",
    "    data = json.load(open(file, 'r'))\n",
    "    for paper in data:\n",
    "        try:\n",
    "            paper['text'] = open(f\"data/pdfs/{paper['id']}.txt\", 'r').read().lower()\n",
    "        except:\n",
    "            paper['text'] = \"N/A\"\n",
    "            pass\n",
    "    confs[conf_name][year] = data\n",
    "\n",
    "\n"
   ]
  },
  {
   "cell_type": "code",
   "execution_count": null,
   "metadata": {},
   "outputs": [],
   "source": [
    "synonyms = {\n",
    "    'facebook': [\"facebook ai research\", 'fb.com'],\n",
    "    'google': ['google.com', 'google brain'],\n",
    "    'pytorch': ['pytorch', 'allennlp', 'opennmt-py'],\n",
    "    'tensorflow': ['tensorflow', 'opennmt-tf'],\n",
    "    'stanford': ['@cs.stanford.edu', '@stanford.edu']\n",
    "}\n",
    "for k, v in synonyms.items():\n",
    "    synonyms[k] = [i.lower() for i in v]\n",
    "    \n",
    "words = set([i for k,v in synonyms.items() for i in v])\n",
    "mapping = defaultdict(list)\n",
    "for k, vs in synonyms.items():\n",
    "    for v in vs:\n",
    "        mapping[v].append(k)\n",
    "# print(mapping)\n",
    "        \n",
    "word_sets = defaultdict(lambda: defaultdict(lambda: defaultdict(set)))\n",
    "for conf in confs:\n",
    "    for year in confs[conf]:\n",
    "        data = confs[conf][year]\n",
    "        word_set = word_sets[conf][year]\n",
    "        for paper in data:\n",
    "            for word in words:\n",
    "                if word in paper['text']:\n",
    "                    if word in mapping:\n",
    "                        for key in mapping[word]:\n",
    "                            word_set[key].add(paper['id'])\n",
    "\n",
    "        "
   ]
  },
  {
   "cell_type": "code",
   "execution_count": 285,
   "metadata": {},
   "outputs": [
    {
     "name": "stdout",
     "output_type": "stream",
     "text": [
      "2018\n",
      "total papers 330\n",
      "pytorch 15\n",
      "pytorch independent 14\n",
      "tensorflow 41\n",
      "tensorflow independent 35\n",
      "\n",
      "2019\n",
      "total papers 451\n",
      "pytorch 72\n",
      "pytorch independent 69\n",
      "tensorflow 33\n",
      "tensorflow independent 24\n",
      "\n"
     ]
    }
   ],
   "source": [
    "conf = 'naacl'\n",
    "for year in sorted(confs[conf]):\n",
    "    ws = word_sets[conf][year]\n",
    "    print(year)\n",
    "    print(\"total papers\", len(confs[conf][year]))\n",
    "    print(\"pytorch\", len(ws['pytorch']))\n",
    "    print(\"pytorch independent\", len(ws['pytorch'] - ws['facebook']))\n",
    "    print(\"tensorflow\", len(ws['tensorflow']))\n",
    "    print(\"tensorflow independent\", len(ws['tensorflow'] - ws['google']))\n",
    "    print()"
   ]
  },
  {
   "cell_type": "code",
   "execution_count": null,
   "metadata": {},
   "outputs": [],
   "source": []
  }
 ],
 "metadata": {
  "kernelspec": {
   "display_name": "Python 3",
   "language": "python",
   "name": "python3"
  },
  "language_info": {
   "codemirror_mode": {
    "name": "ipython",
    "version": 3
   },
   "file_extension": ".py",
   "mimetype": "text/x-python",
   "name": "python",
   "nbconvert_exporter": "python",
   "pygments_lexer": "ipython3",
   "version": "3.7.3"
  }
 },
 "nbformat": 4,
 "nbformat_minor": 2
}
