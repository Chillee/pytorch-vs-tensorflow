{
 "cells": [
  {
   "cell_type": "code",
   "execution_count": 119,
   "metadata": {},
   "outputs": [],
   "source": [
    "import json\n",
    "import argparse\n",
    "from collections import defaultdict\n",
    "import glob\n",
    "from os import path\n",
    "\n",
    "# parser = argparse.ArgumentParser(\n",
    "#     description='Adds metadata to a json file')\n",
    "# parser.add_argument('file')\n",
    "# args = parser.parse_args()\n",
    "\n",
    "# file = args.file\n",
    "files = glob.glob('data/*.json')\n",
    "confs = defaultdict(dict)\n",
    "for file in files:\n",
    "    data = json.load(open(file, 'r'))\n",
    "    conf_name = path.basename(file).split('.')[0]\n",
    "    conf_name, year = conf_name.split('_')\n",
    "    data = json.load(open(file, 'r'))\n",
    "    for paper in data:\n",
    "        try:\n",
    "            paper['text'] = open(f\"data/pdfs/{paper['id']}.txt\", 'r').read().lower()\n",
    "        except:\n",
    "            paper['text'] = \"N/A\"\n",
    "            pass\n",
    "    confs[conf_name][year] = data\n",
    "\n",
    "\n"
   ]
  },
  {
   "cell_type": "code",
   "execution_count": 274,
   "metadata": {},
   "outputs": [
    {
     "name": "stdout",
     "output_type": "stream",
     "text": [
      "{'facebook': ['facebook ai research', 'fb.com'], 'google': ['google.com', 'google brain'], 'pytorch': ['pytorch', 'allennlp', 'opennmt-py'], 'tensorflow': ['tensorflow', 'opennmt-tf'], 'stanford': ['@cs.stanford.edu', '@stanford.edu', 'stanford.edu']}\n",
      "{'facebook ai research', '@cs.stanford.edu', 'allennlp', '@stanford.edu', 'fb.com', 'opennmt-tf', 'google.com', 'opennmt-py', 'stanford.edu', 'google brain', 'pytorch', 'tensorflow'}\n",
      "defaultdict(<class 'list'>, {'facebook ai research': ['facebook'], 'fb.com': ['facebook'], 'google.com': ['google'], 'google brain': ['google'], 'pytorch': ['pytorch'], 'allennlp': ['pytorch'], 'opennmt-py': ['pytorch'], 'tensorflow': ['tensorflow'], 'opennmt-tf': ['tensorflow'], '@cs.stanford.edu': ['stanford'], '@stanford.edu': ['stanford'], 'stanford.edu': ['stanford']})\n"
     ]
    }
   ],
   "source": [
    "# %%time\n",
    "# words = [\"pytorch\", \"tensorflow\", \"@google.com\",\n",
    "#          \"@fb.com\", \"openNMT-py\", \"allenNLP\", \"google brain\", \"@cs.stanford.edu\"]\n",
    "inv_mapping = {\n",
    "    'facebook': [\"facebook ai research\", 'fb.com'],\n",
    "    'google': ['google.com', 'google brain'],\n",
    "    'pytorch': ['pytorch', 'allennlp', 'opennmt-py'],\n",
    "    'tensorflow': ['tensorflow', 'opennmt-tf'],\n",
    "    'stanford': ['@cs.stanford.edu', '@stanford.edu', 'stanford.edu']\n",
    "}\n",
    "for k, v in inv_mapping.items():\n",
    "    inv_mapping[k] = [i.lower() for i in v]\n",
    "    \n",
    "print(inv_mapping)\n",
    "words = set([i for k,v in inv_mapping.items() for i in v])\n",
    "print(words)\n",
    "mapping = defaultdict(list)\n",
    "for k, vs in inv_mapping.items():\n",
    "    for v in vs:\n",
    "        mapping[v].append(k)\n",
    "print(mapping)\n",
    "        \n",
    "word_sets = defaultdict(lambda: defaultdict(lambda: defaultdict(set)))\n",
    "for conf in confs:\n",
    "    for year in confs[conf]:\n",
    "        data = confs[conf][year]\n",
    "        word_set = word_sets[conf][year]\n",
    "        for paper in data:\n",
    "            for word in words:\n",
    "                if word in paper['text']:\n",
    "                    if word in mapping:\n",
    "                        for key in mapping[word]:\n",
    "                            word_set[key].add(paper['id'])\n",
    "\n",
    "        "
   ]
  },
  {
   "cell_type": "code",
   "execution_count": null,
   "metadata": {},
   "outputs": [],
   "source": [
    "### conf = 'naacl'\n",
    "for year in sorted(confs[conf]):\n",
    "    ws = word_sets[conf][year]\n",
    "    print(year)\n",
    "    print(\"total papers\", len(confs[conf][year]))\n",
    "    print(\"stanford\", len(ws['stanford']))\n",
    "    print(\"pytorch\", len(ws['pytorch'] & ws['stanford']))\n",
    "#     print(\"pytorch independent\", len(ws['pytorch'] - ws['facebook']))\n",
    "    print(\"tensorflow\", len(ws['tensorflow'] & ws['stanford']))\n",
    "    print(ws['pytorch'] & ws['stanford'])\n",
    "#     print(\"tensorflow independent\", len(ws['tensorflow'] - ws['google']))\n",
    "    print()"
   ]
  },
  {
   "cell_type": "code",
   "execution_count": null,
   "metadata": {},
   "outputs": [],
   "source": []
  }
 ],
 "metadata": {
  "kernelspec": {
   "display_name": "Python 3",
   "language": "python",
   "name": "python3"
  },
  "language_info": {
   "codemirror_mode": {
    "name": "ipython",
    "version": 3
   },
   "file_extension": ".py",
   "mimetype": "text/x-python",
   "name": "python",
   "nbconvert_exporter": "python",
   "pygments_lexer": "ipython3",
   "version": "3.7.3"
  }
 },
 "nbformat": 4,
 "nbformat_minor": 2
}
